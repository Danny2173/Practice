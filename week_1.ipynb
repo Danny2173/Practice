{
 "cells": [
  {
   "cell_type": "markdown",
   "id": "6cfee3ba",
   "metadata": {},
   "source": [
    "## Python practice"
   ]
  },
  {
   "cell_type": "markdown",
   "id": "fae333e8",
   "metadata": {},
   "source": [
    "Day 1 - 29/09"
   ]
  },
  {
   "cell_type": "code",
   "execution_count": null,
   "id": "289110a0",
   "metadata": {},
   "outputs": [
    {
     "name": "stdout",
     "output_type": "stream",
     "text": [
      "[1, 2, 3, 4, 5, 7, 8, 9]\n",
      "[2 2]\n",
      "1\n",
      "['This', 'is', 'python', 'new']\n",
      "None\n",
      "[7, 8, 9]\n",
      "['Gloomhaven', 'Cluedo', 'Monopoly']\n"
     ]
    }
   ],
   "source": [
    "# --- LISTS PRACTICE ---\n",
    "import numpy as np\n",
    "# 1. Delete element at index 5 from list x\n",
    "x_l = [1, 2, 3, 4, 5, 6, 7, 8, 9]\n",
    "del x_l[5]\n",
    "print(x_l)\n",
    "\n",
    "# 2. What happens with [1,1] + [1,1] ?\n",
    "x = (np.asarray([1,1]))\n",
    "y = (np.asarray([1,1]))\n",
    "z = x + y\n",
    "print(z)\n",
    "\n",
    "\n",
    "# 4. Create a copy of list x two ways:\n",
    "#    y = list(x)\n",
    "#    y = x[:]\n",
    "\n",
    "y = list(x)\n",
    "y = x[:]\n",
    "# 5. Find the index of \"python\" in a list of strings\n",
    "strings = [\"This\", \"is\", \"python\"]\n",
    "\n",
    "strings.index(\"python\")\n",
    "# 6. Count occurrences of number 2 in a list ???\n",
    "# np.bincount(x, 2)\n",
    "print(x_l.count(2))\n",
    "# 7. Append \"new\" to a list\n",
    "strings.append(\"new\")\n",
    "print(strings)\n",
    "# 8. Reverse a list called areas\n",
    "print(strings.reverse())\n",
    "\n",
    "x = [1, 2, 3, 4, 5]\n",
    "y = x[::-1]   # makes a reversed *copy*\n",
    "print(y)  # [5, 4, 3, 2, 1]\n",
    "\n",
    "# 9. Remove the first occurrence of 5 in list x\n",
    "x2 = x_l[5:]\n",
    "print(x2)\n",
    "# 10. Insert \"Gloomhaven\" at index 0 in boardgames\n",
    "boardgames = [\"Cluedo\", \"Monopoly\"]\n",
    "boardgames.insert(0,\"Gloomhaven\")\n",
    "print(boardgames)"
   ]
  },
  {
   "cell_type": "code",
   "execution_count": 24,
   "id": "1013cc1e",
   "metadata": {},
   "outputs": [
    {
     "name": "stdout",
     "output_type": "stream",
     "text": [
      "Daniel\n",
      "babcnabcnabc\n",
      "1\n",
      "3\n"
     ]
    }
   ],
   "source": [
    "# --- STRINGS PRACTICE ---\n",
    "\n",
    "# 1. Capitalize the first letter of a string\n",
    "print(\"Daniel\".capitalize())\n",
    "# 2. Replace all \"a\" with \"abc\" in a string\n",
    "print(\"banana\".replace(\"a\", \"abc\"))\n",
    "# 3. Find the index of \"a\" in a string\n",
    "print(\"banana\".index(\"a\"))\n",
    "# 4. Count how many \"o\" appear in \"Toronto\"\n",
    "print(\"Totonto\".count(\"o\"))"
   ]
  },
  {
   "cell_type": "code",
   "execution_count": 54,
   "id": "4d1785f1",
   "metadata": {},
   "outputs": [
    {
     "name": "stdout",
     "output_type": "stream",
     "text": [
      "[False  True False  True False False  True]\n",
      "[[1.       0.979941]\n",
      " [0.979941 1.      ]]\n",
      "679\n",
      "[50 65 80 90]\n",
      "[[192  80]\n",
      " [202  90]\n",
      " [165  65]\n",
      " [120  50]]\n",
      "[[192 202 165 120]\n",
      " [ 80  90  65  50]]\n",
      "1\n",
      "2\n",
      "3\n",
      "2\n",
      "3\n",
      "4\n",
      "3\n",
      "4\n",
      "5\n",
      "[1 2 3]\n",
      "[2 3 4]\n",
      "[3 4 5]\n",
      "[[1 2 3]\n",
      " [2 3 4]\n",
      " [3 4 5]]\n"
     ]
    }
   ],
   "source": [
    "import numpy as np\n",
    "\n",
    "# --- NUMPY PRACTICE ---\n",
    "\n",
    "# 1. Given bmi = np.array([...]), test if bmi > 23\n",
    "\n",
    "bmi = np.array([21, 24, 19, 28, 23, 15, 36])\n",
    "\n",
    "print(bmi>23)\n",
    "# 2. Return only the values of bmi where bmi > 23\n",
    "bmi[bmi>23]\n",
    "# 3. Show attributes:\n",
    "bmi.shape\n",
    "\n",
    "# 4. Correlation: np.corrcoef(array1, array2)\n",
    "height = np.asarray([192, 202, 165, 120])\n",
    "weight = np.asarray([80, 90, 65, 50])\n",
    "\n",
    "print(np.corrcoef(height,weight))\n",
    "# 5. Try np.sum(x) and np.sort(bmi)\n",
    "print(np.sum(height))\n",
    "weight2 = np.sort(weight)\n",
    "print(weight2)\n",
    "# 6. Combine arrays a1 and a2 with np.column_stack\n",
    "print(np.column_stack((height, weight)))\n",
    "print(np.vstack((height, weight)))\n",
    "\n",
    "# 7. Iterate through an array with np.nditer\n",
    "x_3D = np.asarray([[1,2,3],[2,3,4],[3,4,5]])\n",
    "for x in np.nditer(x_3D):\n",
    "    print(x)\n",
    "\n",
    "for x in x_3D:\n",
    "    print(x)\n",
    "\n",
    "# 9. Transpose np_aw\n",
    "print(np.transpose(x_3D))"
   ]
  },
  {
   "cell_type": "code",
   "execution_count": 33,
   "id": "190ad057",
   "metadata": {},
   "outputs": [
    {
     "name": "stdout",
     "output_type": "stream",
     "text": [
      "{'china': 1.38, 'india': 1.29, 'sealand': 2.7e-05}\n",
      "{'china': 1.38, 'india': 1.29}\n",
      "{'spain': {'capital': 'madrid', 'pop': 46.77}}\n",
      "{'country': ['spain', 'france', 'germany'], 'drives_right': [True, True, False], 'cars_per_cap': [500, 600, 700]}\n",
      "['spain', 'france', 'germany']\n",
      "[True, True, False]\n",
      "[500, 600, 700]\n"
     ]
    }
   ],
   "source": [
    "# --- MATPLOTLIB PRACTICE ---\n",
    "import matplotlib.pyplot as plt\n",
    "\n",
    "\n",
    "import matplotlib.pyplot as plt\n",
    "\n",
    "# --- DATA SETUP (for practice) ---\n",
    "life_exp = [50, 55, 60, 62, 65, 70, 72, 75, 80, 82]\n",
    "gdp_cap = [1000, 2000, 3000, 4000, 5000, 6000, 10000, 3000, 1000, 2000]\n",
    "np_pop = [10, 20, 30, 40, 50, 60, 20, 1, 23, 34]\n",
    "tick_val = [50, 60, 70, 80]\n",
    "tick_lab = [\"50 yrs\", \"60 yrs\", \"70 yrs\", \"80 yrs\"]\n",
    "\n",
    "# --- MATPLOTLIB PRACTICE ---\n",
    "\n",
    "# 1. Clean the current figure\n",
    "# 2. Create a histogram of life_exp with 15 bins\n",
    "# plt.hist(life_exp, bins=5)\n",
    "# # 3. Set custom x-ticks with tick_val and tick_lab\n",
    "# plt.xticks(tick_val, tick_lab)\n",
    "# 4. Create a bubble scatter plot with gdp_cap, life_exp, and np_pop as sizes\n",
    "# plt.scatter(gdp_cap, life_exp, s=np_pop, c=\"r\", alpha = 0.4)\n",
    "# # 5. Add the label \"China\" at (5700, 80)\n",
    "# plt.text(5000, 65, \"China\")\n",
    "# # 6. Add gridlines to the plot\n",
    "# plt.grid(True)\n",
    "\n",
    "europe = {\n",
    "    \"spain\": {\"capital\": \"madrid\", \"population\": 46.77},\n",
    "    \"france\": {\"capital\": \"paris\", \"population\": 66.03}\n",
    "}\n",
    "world = {\"china\": 1.38, \"india\": 1.29}\n",
    "\n",
    "names = [\"spain\", \"france\", \"germany\"]\n",
    "dr = [True, True, False]\n",
    "cpc = [500, 600, 700]\n",
    "\n",
    "# --- DICTIONARY PRACTICE ---\n",
    "\n",
    "# 7. List the keys of the dictionary europe\n",
    "# europe.keys()\n",
    "# 8. Are keys, strings, booleans, and integers mutable or immutable?\n",
    "# immutable\n",
    "# 9. Check if \"sealand\" is a key in the dictionary world\n",
    "# \"china\" in world\n",
    "# 10. Add a new entry \"sealand\": 0.000027 to world\n",
    "world[\"sealand\"] = 0.000027\n",
    "print(world)\n",
    "# 11. Delete \"sealand\" from world\n",
    "del(world[\"sealand\"])\n",
    "print(world)\n",
    "# 12. Define a nested dictionary entry for Spain with capital Madrid and population 46.77\n",
    "europe = {\"spain\" : {\"capital\": \"madrid\", \"pop\": 46.77}}\n",
    "print(europe)\n",
    "# 13. Create a dictionary with keys country, drives_right, and cars_per_cap\n",
    "my_dict = ({\"country\":names, \"drives_right\":dr, \"cars_per_cap\":cpc})\n",
    "print(my_dict)\n",
    "# 14. Iterate through keys and values in a dictionary\n",
    "for key in my_dict.values():\n",
    "    print(key)"
   ]
  }
 ],
 "metadata": {
  "kernelspec": {
   "display_name": "Python 3",
   "language": "python",
   "name": "python3"
  },
  "language_info": {
   "codemirror_mode": {
    "name": "ipython",
    "version": 3
   },
   "file_extension": ".py",
   "mimetype": "text/x-python",
   "name": "python",
   "nbconvert_exporter": "python",
   "pygments_lexer": "ipython3",
   "version": "3.10.11"
  }
 },
 "nbformat": 4,
 "nbformat_minor": 5
}
