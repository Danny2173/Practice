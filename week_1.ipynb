{
 "cells": [
  {
   "cell_type": "markdown",
   "id": "6cfee3ba",
   "metadata": {},
   "source": [
    "## Python practice"
   ]
  },
  {
   "cell_type": "markdown",
   "id": "fae333e8",
   "metadata": {},
   "source": [
    "Day 1 - 29/09"
   ]
  },
  {
   "cell_type": "code",
   "execution_count": null,
   "id": "289110a0",
   "metadata": {},
   "outputs": [
    {
     "name": "stdout",
     "output_type": "stream",
     "text": [
      "[1, 2, 3, 4, 5, 7, 8, 9]\n"
     ]
    }
   ],
   "source": [
    "# --- LISTS PRACTICE ---\n",
    "\n",
    "# 1. Delete element at index 5 from list x\n",
    "x = [1, 2, 3, 4, 5, 6, 7, 8, 9]\n",
    "del x[5]\n",
    "print(x)\n",
    "\n",
    "# 2. What happens with [1,1] + [1,1] ?\n",
    "\n",
    "\n",
    "# 3. Try [1,1] + [2,2] (what do you expect?)\n",
    "\n",
    "# 4. Create a copy of list x two ways:\n",
    "#    y = list(x)\n",
    "#    y = x[:]\n",
    "\n",
    "# 5. Find the index of \"python\" in a list of strings\n",
    "\n",
    "# 6. Count occurrences of number 2 in a list\n",
    "\n",
    "# 7. Append \"new\" to a list\n",
    "\n",
    "# 8. Reverse a list called areas\n",
    "\n",
    "# 9. Remove the first occurrence of 5 in list x\n",
    "\n",
    "# 10. Insert \"Gloomhaven\" at index 0 in boardgames\n"
   ]
  },
  {
   "cell_type": "code",
   "execution_count": null,
   "id": "1013cc1e",
   "metadata": {},
   "outputs": [],
   "source": [
    "# --- STRINGS PRACTICE ---\n",
    "\n",
    "# 1. Capitalize the first letter of a string\n",
    "\n",
    "# 2. Replace all \"a\" with \"abc\" in a string\n",
    "\n",
    "# 3. Find the index of \"a\" in a string\n",
    "\n",
    "# 4. Count how many \"o\" appear in \"Toronto\"\n"
   ]
  },
  {
   "cell_type": "code",
   "execution_count": null,
   "id": "4d1785f1",
   "metadata": {},
   "outputs": [],
   "source": [
    "import numpy as np\n",
    "\n",
    "# --- NUMPY PRACTICE ---\n",
    "\n",
    "# 1. Given bmi = np.array([...]), test if bmi > 23\n",
    "\n",
    "# 2. Return only the values of bmi where bmi > 23\n",
    "\n",
    "# 3. Show attributes:\n",
    "#    - bmi.shape\n",
    "#    - bmi.dtype\n",
    "\n",
    "# 4. Correlation: np.corrcoef(array1, array2)\n",
    "\n",
    "# 5. Try np.sum(x) and np.sort(bmi)\n",
    "\n",
    "# 6. Combine arrays a1 and a2 with np.column_stack\n",
    "\n",
    "# 7. Iterate through an array with np.nditer\n",
    "\n",
    "# 8. Convert list of lists all_walks into array np_aw\n",
    "\n",
    "# 9. Transpose np_aw\n"
   ]
  }
 ],
 "metadata": {
  "kernelspec": {
   "display_name": "Python 3",
   "language": "python",
   "name": "python3"
  },
  "language_info": {
   "codemirror_mode": {
    "name": "ipython",
    "version": 3
   },
   "file_extension": ".py",
   "mimetype": "text/x-python",
   "name": "python",
   "nbconvert_exporter": "python",
   "pygments_lexer": "ipython3",
   "version": "3.11.9"
  }
 },
 "nbformat": 4,
 "nbformat_minor": 5
}
